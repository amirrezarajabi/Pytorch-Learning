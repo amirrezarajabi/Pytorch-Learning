{
 "cells": [
  {
   "cell_type": "code",
   "execution_count": 1,
   "id": "2a78c99b",
   "metadata": {},
   "outputs": [
    {
     "name": "stderr",
     "output_type": "stream",
     "text": [
      "C:\\Users\\amirr\\AppData\\Roaming\\Python\\Python38\\site-packages\\tqdm\\auto.py:22: TqdmWarning: IProgress not found. Please update jupyter and ipywidgets. See https://ipywidgets.readthedocs.io/en/stable/user_install.html\n",
      "  from .autonotebook import tqdm as notebook_tqdm\n"
     ]
    }
   ],
   "source": [
    "import torch"
   ]
  },
  {
   "cell_type": "code",
   "execution_count": 7,
   "id": "d49a9d19",
   "metadata": {},
   "outputs": [
    {
     "data": {
      "text/plain": [
       "tensor([[3., 2., 1.],\n",
       "        [0., 1., 2.]])"
      ]
     },
     "execution_count": 7,
     "metadata": {},
     "output_type": "execute_result"
    }
   ],
   "source": [
    "x = torch.empty(2, 3)\n",
    "x"
   ]
  },
  {
   "cell_type": "code",
   "execution_count": 9,
   "id": "264270d9",
   "metadata": {},
   "outputs": [
    {
     "data": {
      "text/plain": [
       "tensor([[0.1193, 0.6421, 0.6511],\n",
       "        [0.5589, 0.5536, 0.3338]])"
      ]
     },
     "execution_count": 9,
     "metadata": {},
     "output_type": "execute_result"
    }
   ],
   "source": [
    "x1 = torch.rand(2, 3)\n",
    "x1"
   ]
  },
  {
   "cell_type": "code",
   "execution_count": 11,
   "id": "9068aa61",
   "metadata": {},
   "outputs": [
    {
     "data": {
      "text/plain": [
       "tensor([[0., 0.],\n",
       "        [0., 0.]])"
      ]
     },
     "execution_count": 11,
     "metadata": {},
     "output_type": "execute_result"
    }
   ],
   "source": [
    "z = torch.zeros(2, 2)\n",
    "z"
   ]
  },
  {
   "cell_type": "code",
   "execution_count": 22,
   "id": "aaca83ed",
   "metadata": {},
   "outputs": [
    {
     "data": {
      "text/plain": [
       "(tensor([[1, 1, 1],\n",
       "         [1, 1, 1],\n",
       "         [1, 1, 1]], dtype=torch.int32),\n",
       " torch.int32,\n",
       " 3)"
      ]
     },
     "execution_count": 22,
     "metadata": {},
     "output_type": "execute_result"
    }
   ],
   "source": [
    "o = torch.ones(3, 3, dtype=torch.int)\n",
    "o, o.dtype, o.shape[0]"
   ]
  },
  {
   "cell_type": "code",
   "execution_count": 24,
   "id": "757a9961",
   "metadata": {},
   "outputs": [
    {
     "data": {
      "text/plain": [
       "tensor([[2, 4],\n",
       "        [3, 5]])"
      ]
     },
     "execution_count": 24,
     "metadata": {},
     "output_type": "execute_result"
    }
   ],
   "source": [
    "tens = torch.tensor(\n",
    "    [[2, 4],\n",
    "    [3, 5]])\n",
    "tens"
   ]
  },
  {
   "cell_type": "code",
   "execution_count": 28,
   "id": "fab57f43",
   "metadata": {},
   "outputs": [
    {
     "data": {
      "text/plain": [
       "(tensor([[0.5815, 0.5394],\n",
       "         [0.1401, 0.6821]]),\n",
       " tensor([[0.2926, 0.9248],\n",
       "         [0.3967, 0.8854]]))"
      ]
     },
     "execution_count": 28,
     "metadata": {},
     "output_type": "execute_result"
    }
   ],
   "source": [
    "x = torch.rand(2, 2)\n",
    "y = torch.rand(2, 2)\n",
    "x, y"
   ]
  },
  {
   "cell_type": "code",
   "execution_count": 29,
   "id": "dbeb845c",
   "metadata": {},
   "outputs": [
    {
     "data": {
      "text/plain": [
       "tensor([[0.8741, 1.4642],\n",
       "        [0.5368, 1.5675]])"
      ]
     },
     "execution_count": 29,
     "metadata": {},
     "output_type": "execute_result"
    }
   ],
   "source": [
    "x + y"
   ]
  },
  {
   "cell_type": "code",
   "execution_count": 30,
   "id": "e7dbb40f",
   "metadata": {},
   "outputs": [
    {
     "data": {
      "text/plain": [
       "tensor([[0.1702, 0.4988],\n",
       "        [0.0556, 0.6039]])"
      ]
     },
     "execution_count": 30,
     "metadata": {},
     "output_type": "execute_result"
    }
   ],
   "source": [
    "x * y"
   ]
  },
  {
   "cell_type": "code",
   "execution_count": 35,
   "id": "f61d3860",
   "metadata": {},
   "outputs": [
    {
     "data": {
      "text/plain": [
       "tensor(0.1702)"
      ]
     },
     "execution_count": 35,
     "metadata": {},
     "output_type": "execute_result"
    }
   ],
   "source": [
    "x[0, 0] * y[0, 0]"
   ]
  },
  {
   "cell_type": "code",
   "execution_count": 38,
   "id": "10f231f1",
   "metadata": {},
   "outputs": [
    {
     "data": {
      "text/plain": [
       "(tensor([[0.8741, 1.4642],\n",
       "         [0.5368, 1.5675]]),\n",
       " tensor([[0.8741, 1.4642],\n",
       "         [0.5368, 1.5675]]))"
      ]
     },
     "execution_count": 38,
     "metadata": {},
     "output_type": "execute_result"
    }
   ],
   "source": [
    "xaddy = torch.add(x, y)\n",
    "xaddy, x.add_(y)"
   ]
  },
  {
   "cell_type": "code",
   "execution_count": 40,
   "id": "90d84c2b",
   "metadata": {},
   "outputs": [
    {
     "data": {
      "text/plain": [
       "tensor([[0.2558, 1.3541],\n",
       "        [0.2129, 1.3878]])"
      ]
     },
     "execution_count": 40,
     "metadata": {},
     "output_type": "execute_result"
    }
   ],
   "source": [
    "xy = torch.mul(x, y)\n",
    "xy"
   ]
  },
  {
   "cell_type": "code",
   "execution_count": 41,
   "id": "cf15a01b",
   "metadata": {},
   "outputs": [
    {
     "data": {
      "text/plain": [
       "tensor([[0.8741, 1.4642],\n",
       "        [0.5368, 1.5675]])"
      ]
     },
     "execution_count": 41,
     "metadata": {},
     "output_type": "execute_result"
    }
   ],
   "source": [
    "x"
   ]
  },
  {
   "cell_type": "code",
   "execution_count": 42,
   "id": "cb0ac35f",
   "metadata": {},
   "outputs": [
    {
     "data": {
      "text/plain": [
       "tensor([[0.2926, 0.9248],\n",
       "        [0.3967, 0.8854]])"
      ]
     },
     "execution_count": 42,
     "metadata": {},
     "output_type": "execute_result"
    }
   ],
   "source": [
    "y"
   ]
  },
  {
   "cell_type": "code",
   "execution_count": 43,
   "id": "7d056d89",
   "metadata": {},
   "outputs": [
    {
     "data": {
      "text/plain": [
       "0.25576166"
      ]
     },
     "execution_count": 43,
     "metadata": {},
     "output_type": "execute_result"
    }
   ],
   "source": [
    "0.2926 * 0.8741"
   ]
  },
  {
   "cell_type": "code",
   "execution_count": 44,
   "id": "aa7e64dc",
   "metadata": {},
   "outputs": [
    {
     "data": {
      "text/plain": [
       "0.25578516721725464"
      ]
     },
     "execution_count": 44,
     "metadata": {},
     "output_type": "execute_result"
    }
   ],
   "source": [
    "xy[0, 0].item()"
   ]
  },
  {
   "cell_type": "code",
   "execution_count": 46,
   "id": "24a0b2a0",
   "metadata": {},
   "outputs": [
    {
     "data": {
      "text/plain": [
       "tensor([[0.1982, 0.4488, 0.1021, 0.1502, 0.9616, 0.2484],\n",
       "        [0.4310, 0.9111, 0.6052, 0.3504, 0.3682, 0.6161],\n",
       "        [0.9777, 0.4283, 0.2177, 0.6119, 0.1874, 0.6412],\n",
       "        [0.3542, 0.4733, 0.0951, 0.4588, 0.4628, 0.6603],\n",
       "        [0.1993, 0.5892, 0.3301, 0.3276, 0.3564, 0.1629],\n",
       "        [0.3238, 0.4695, 0.5038, 0.8908, 0.5950, 0.0520]])"
      ]
     },
     "execution_count": 46,
     "metadata": {},
     "output_type": "execute_result"
    }
   ],
   "source": [
    "rnd = torch.rand(6, 6)\n",
    "rnd"
   ]
  },
  {
   "cell_type": "code",
   "execution_count": 47,
   "id": "465833b7",
   "metadata": {},
   "outputs": [
    {
     "data": {
      "text/plain": [
       "tensor([[0.1982, 0.4488, 0.1021, 0.1502],\n",
       "        [0.9616, 0.2484, 0.4310, 0.9111],\n",
       "        [0.6052, 0.3504, 0.3682, 0.6161],\n",
       "        [0.9777, 0.4283, 0.2177, 0.6119],\n",
       "        [0.1874, 0.6412, 0.3542, 0.4733],\n",
       "        [0.0951, 0.4588, 0.4628, 0.6603],\n",
       "        [0.1993, 0.5892, 0.3301, 0.3276],\n",
       "        [0.3564, 0.1629, 0.3238, 0.4695],\n",
       "        [0.5038, 0.8908, 0.5950, 0.0520]])"
      ]
     },
     "execution_count": 47,
     "metadata": {},
     "output_type": "execute_result"
    }
   ],
   "source": [
    "rnd.view(-1, 4)"
   ]
  },
  {
   "cell_type": "code",
   "execution_count": 48,
   "id": "2e74a43b",
   "metadata": {},
   "outputs": [
    {
     "data": {
      "text/plain": [
       "tensor([[0.1982, 0.4488, 0.1021, 0.1502, 0.9616, 0.2484],\n",
       "        [0.4310, 0.9111, 0.6052, 0.3504, 0.3682, 0.6161],\n",
       "        [0.9777, 0.4283, 0.2177, 0.6119, 0.1874, 0.6412],\n",
       "        [0.3542, 0.4733, 0.0951, 0.4588, 0.4628, 0.6603],\n",
       "        [0.1993, 0.5892, 0.3301, 0.3276, 0.3564, 0.1629],\n",
       "        [0.3238, 0.4695, 0.5038, 0.8908, 0.5950, 0.0520]])"
      ]
     },
     "execution_count": 48,
     "metadata": {},
     "output_type": "execute_result"
    }
   ],
   "source": [
    "rnd"
   ]
  },
  {
   "cell_type": "code",
   "execution_count": 50,
   "id": "6acf802b",
   "metadata": {},
   "outputs": [
    {
     "data": {
      "text/plain": [
       "tensor([0.1982, 0.4488, 0.1021, 0.1502, 0.9616, 0.2484, 0.4310, 0.9111, 0.6052,\n",
       "        0.3504, 0.3682, 0.6161, 0.9777, 0.4283, 0.2177, 0.6119, 0.1874, 0.6412,\n",
       "        0.3542, 0.4733, 0.0951, 0.4588, 0.4628, 0.6603, 0.1993, 0.5892, 0.3301,\n",
       "        0.3276, 0.3564, 0.1629, 0.3238, 0.4695, 0.5038, 0.8908, 0.5950, 0.0520])"
      ]
     },
     "execution_count": 50,
     "metadata": {},
     "output_type": "execute_result"
    }
   ],
   "source": [
    "rnd.view(-1)"
   ]
  },
  {
   "cell_type": "code",
   "execution_count": 51,
   "id": "cbe2bdc4",
   "metadata": {},
   "outputs": [
    {
     "data": {
      "text/plain": [
       "tensor([0.1982, 0.4488, 0.1021, 0.1502, 0.9616, 0.2484, 0.4310, 0.9111, 0.6052,\n",
       "        0.3504, 0.3682, 0.6161, 0.9777, 0.4283, 0.2177, 0.6119, 0.1874, 0.6412,\n",
       "        0.3542, 0.4733, 0.0951, 0.4588, 0.4628, 0.6603, 0.1993, 0.5892, 0.3301,\n",
       "        0.3276, 0.3564, 0.1629, 0.3238, 0.4695, 0.5038, 0.8908, 0.5950, 0.0520])"
      ]
     },
     "execution_count": 51,
     "metadata": {},
     "output_type": "execute_result"
    }
   ],
   "source": [
    "rnd.flatten()"
   ]
  },
  {
   "cell_type": "code",
   "execution_count": 54,
   "id": "e90e283f",
   "metadata": {},
   "outputs": [],
   "source": [
    "n_rnd = rnd.numpy()"
   ]
  },
  {
   "cell_type": "code",
   "execution_count": 55,
   "id": "cf653941",
   "metadata": {},
   "outputs": [],
   "source": [
    "rnd[0, 0] = 2"
   ]
  },
  {
   "cell_type": "code",
   "execution_count": 56,
   "id": "6e19cc7b",
   "metadata": {},
   "outputs": [
    {
     "data": {
      "text/plain": [
       "tensor([[2.0000, 0.4488, 0.1021, 0.1502, 0.9616, 0.2484],\n",
       "        [0.4310, 0.9111, 0.6052, 0.3504, 0.3682, 0.6161],\n",
       "        [0.9777, 0.4283, 0.2177, 0.6119, 0.1874, 0.6412],\n",
       "        [0.3542, 0.4733, 0.0951, 0.4588, 0.4628, 0.6603],\n",
       "        [0.1993, 0.5892, 0.3301, 0.3276, 0.3564, 0.1629],\n",
       "        [0.3238, 0.4695, 0.5038, 0.8908, 0.5950, 0.0520]])"
      ]
     },
     "execution_count": 56,
     "metadata": {},
     "output_type": "execute_result"
    }
   ],
   "source": [
    "rnd"
   ]
  },
  {
   "cell_type": "code",
   "execution_count": 57,
   "id": "1b7635cc",
   "metadata": {},
   "outputs": [
    {
     "data": {
      "text/plain": [
       "array([[2.        , 0.4487772 , 0.10206491, 0.15015304, 0.96156776,\n",
       "        0.24842095],\n",
       "       [0.43098795, 0.91110605, 0.60515475, 0.3503508 , 0.36816692,\n",
       "        0.6161111 ],\n",
       "       [0.9776959 , 0.4283011 , 0.21774185, 0.6118608 , 0.1874125 ,\n",
       "        0.641195  ],\n",
       "       [0.35416007, 0.4732805 , 0.09508246, 0.45879507, 0.46277344,\n",
       "        0.66027147],\n",
       "       [0.19927734, 0.5891612 , 0.33011782, 0.32758188, 0.35636955,\n",
       "        0.16287476],\n",
       "       [0.32384795, 0.4695217 , 0.50377816, 0.8908276 , 0.5950316 ,\n",
       "        0.05198294]], dtype=float32)"
      ]
     },
     "execution_count": 57,
     "metadata": {},
     "output_type": "execute_result"
    }
   ],
   "source": [
    "n_rnd"
   ]
  },
  {
   "cell_type": "code",
   "execution_count": 58,
   "id": "a0905905",
   "metadata": {},
   "outputs": [],
   "source": [
    "import numpy as np\n",
    "a = np.zeros((3, 3))\n",
    "b = torch.from_numpy(a)\n",
    "a += 1"
   ]
  },
  {
   "cell_type": "code",
   "execution_count": 59,
   "id": "55972d89",
   "metadata": {},
   "outputs": [
    {
     "data": {
      "text/plain": [
       "tensor([[1., 1., 1.],\n",
       "        [1., 1., 1.],\n",
       "        [1., 1., 1.]], dtype=torch.float64)"
      ]
     },
     "execution_count": 59,
     "metadata": {},
     "output_type": "execute_result"
    }
   ],
   "source": [
    "b"
   ]
  },
  {
   "cell_type": "code",
   "execution_count": 60,
   "id": "8a0b3676",
   "metadata": {},
   "outputs": [
    {
     "data": {
      "text/plain": [
       "array([[1., 1., 1.],\n",
       "       [1., 1., 1.],\n",
       "       [1., 1., 1.]])"
      ]
     },
     "execution_count": 60,
     "metadata": {},
     "output_type": "execute_result"
    }
   ],
   "source": [
    "a"
   ]
  },
  {
   "cell_type": "code",
   "execution_count": 61,
   "id": "af006080",
   "metadata": {},
   "outputs": [
    {
     "data": {
      "text/plain": [
       "False"
      ]
     },
     "execution_count": 61,
     "metadata": {},
     "output_type": "execute_result"
    }
   ],
   "source": [
    "torch.cuda.is_available()"
   ]
  }
 ],
 "metadata": {
  "kernelspec": {
   "display_name": "Python 3 (ipykernel)",
   "language": "python",
   "name": "python3"
  },
  "language_info": {
   "codemirror_mode": {
    "name": "ipython",
    "version": 3
   },
   "file_extension": ".py",
   "mimetype": "text/x-python",
   "name": "python",
   "nbconvert_exporter": "python",
   "pygments_lexer": "ipython3",
   "version": "3.8.0"
  }
 },
 "nbformat": 4,
 "nbformat_minor": 5
}
